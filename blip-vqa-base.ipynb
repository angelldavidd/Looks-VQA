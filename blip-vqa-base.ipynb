{
 "cells": [
  {
   "cell_type": "code",
   "execution_count": null,
   "metadata": {},
   "outputs": [],
   "source": [
    "import requests\n",
    "from PIL import Image\n",
    "from transformers import BlipProcessor, BlipForQuestionAnswering\n",
    "\n",
    "import matplotlib.pyplot as plt\n",
    "\n",
    "processor = BlipProcessor.from_pretrained(\"Salesforce/blip-vqa-base\")\n",
    "model = BlipForQuestionAnswering.from_pretrained(\"Salesforce/blip-vqa-base\").to(\"cuda\")\n",
    "\n",
    "img_url = 'https://external-content.duckduckgo.com/iu/?u=http%3A%2F%2Fwww.ociorama.es%2Fwp-content%2Fuploads%2F2019%2F03%2Fzoologicos.jpg&f=1&nofb=1&ipt=44e82517affa27286b4d2de850e1c868a82bb376ae3ebcedd07543148b57ea69&ipo=images'#'https://storage.googleapis.com/sfr-vision-language-research/BLIP/demo.jpg' \n",
    "question =\"how many types humans are in the picture?\" #--->#\"how many woman are the picture?\"#---> \"what is the place?\"#\"what is the breed of the dog\"#----> \"what is the colour of the dog\"#\"how many humans are in the picture?\"\n",
    "\n",
    "\n",
    "\n",
    "def predit(img_url,question):\n",
    "  raw_image = Image.open(requests.get(img_url, stream=True).raw).convert('RGB')\n",
    "  inputs = processor(raw_image, question, return_tensors=\"pt\").to(\"cuda\")\n",
    "  out = model.generate(**inputs)\n",
    "\n",
    "  plt.imshow(raw_image)\n",
    "  plt.show()\n",
    "\n",
    "  return print(f'pregunta: {question}, la respuesta es {processor.decode(out[0], skip_special_tokens=True)}\\n')\n",
    "\n",
    "\n",
    "if __name__=='__main__':\n",
    "  predit(img_url,question)\n",
    "  predit(img_url='https://blog-es.kinedu.com/wp-content/uploads/2018/01/ART_DES_4037.jpg',question=\"what are in the picture?\")\n",
    "  predit(img_url='https://blog-es.kinedu.com/wp-content/uploads/2018/01/ART_DES_4037.jpg',question=\"en español, dime que hay dentro de la imagen?\")\n",
    "  predit(img_url='https://blog-es.kinedu.com/wp-content/uploads/2018/01/ART_DES_4037.jpg',question=\"what are doing the kids?\")\n",
    "  predit(img_url='https://blog-es.kinedu.com/wp-content/uploads/2018/01/ART_DES_4037.jpg',question=\"what are doing the kids?\")\n",
    "  predit(img_url='https://i.pinimg.com/originals/0f/90/79/0f9079e987c027b20376bb816a2f7a61.png',question=\"what are in the picture?\")\n",
    "  predit(img_url='https://i.pinimg.com/originals/0f/90/79/0f9079e987c027b20376bb816a2f7a61.png',question=\"how many peaple are in the picture?\")\n"
   ]
  }
 ],
 "metadata": {
  "kernelspec": {
   "display_name": "base",
   "language": "python",
   "name": "python3"
  },
  "language_info": {
   "name": "python",
   "version": "3.1.0"
  }
 },
 "nbformat": 4,
 "nbformat_minor": 2
}
