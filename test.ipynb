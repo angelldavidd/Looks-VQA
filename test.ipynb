{
 "cells": [
  {
   "cell_type": "code",
   "execution_count": null,
   "metadata": {},
   "outputs": [],
   "source": [
    "import requests\n",
    "from PIL import Image\n",
    "from transformers import BlipProcessor, BlipForQuestionAnswering\n",
    "\n",
    "import matplotlib.pyplot as plt\n",
    "\n",
    "processor = BlipProcessor.from_pretrained(\"Salesforce/blip-vqa-base\")\n",
    "model = BlipForQuestionAnswering.from_pretrained(\"Salesforce/blip-vqa-base\")\n",
    "\n",
    "img_url = 'https://storage.googleapis.com/sfr-vision-language-research/BLIP/demo.jpg' \n",
    "question = \"how many woman are the picture?\"#\"what is the place?\"#\"what is the breed of the dog\"#\"what is the colour of the dog\"#\"how many humans are in the picture?\"\n",
    "\n",
    "def predit(imagen_url,question):\n",
    "  raw_image = Image.open(requests.get(img_url, stream=True).raw).convert('RGB')\n",
    "  inputs = processor(raw_image, question, return_tensors=\"pt\")\n",
    "  out = model.generate(**inputs)\n",
    "\n",
    "  plt.imshow(raw_image)\n",
    "  plt.show()\n",
    "\n",
    "  return print(f'la respuesta es {processor.decode(out[0], skip_special_tokens=True)}')\n",
    "\n",
    "\n",
    "if __name__=='__main__':\n",
    "  predit(img_url,question)\n"
   ]
  }
 ],
 "metadata": {
  "kernelspec": {
   "display_name": "base",
   "language": "python",
   "name": "python3"
  },
  "language_info": {
   "name": "python",
   "version": "3.1.0"
  }
 },
 "nbformat": 4,
 "nbformat_minor": 2
}
